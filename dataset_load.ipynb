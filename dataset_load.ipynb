{
 "cells": [
  {
   "cell_type": "code",
   "execution_count": 25,
   "metadata": {},
   "outputs": [],
   "source": [
    "import os\n",
    "import torch\n",
    "import pandas as pd\n",
    "import numpy as np\n",
    "import seaborn as sns\n",
    "from torch.utils.data import Dataset, random_split, DataLoader\n",
    "from PIL import Image\n",
    "import torchvision.models as models\n",
    "import matplotlib.pyplot as plt\n",
    "import torchvision.transforms as transforms\n",
    "from sklearn.metrics import f1_score\n",
    "import torch.nn.functional as F\n",
    "import torch.nn as nn\n",
    "from torchvision.utils import make_grid"
   ]
  },
  {
   "attachments": {},
   "cell_type": "markdown",
   "metadata": {},
   "source": [
    "## Building the dataset\n",
    "\n",
    "The dataset to be used is a subset of an existing dataset found on [kaggle](https://www.kaggle.com/datasets/sovitrath/sports-image-dataset?datasetId=680510&sortBy=dateRun&tab=profile). The original dataset had 22 different sports from which 15 were choosen for our subset. The choice of the sports was not arbitrary, we chose to keep a variety of sports that included some very similar to each other and others that are more easily destinguisable, so we can still explore the capabilities of our approach."
   ]
  },
  {
   "attachments": {},
   "cell_type": "markdown",
   "metadata": {},
   "source": [
    "Maping each sport name to an id and saving it in a dictionary for easy use throughout the code."
   ]
  },
  {
   "cell_type": "code",
   "execution_count": 26,
   "metadata": {},
   "outputs": [],
   "source": [
    "labels = {\n",
    "    0: 'badminton',\n",
    "    1: 'baseball',\n",
    "    2: 'basketball',\n",
    "    3: 'boxing',\n",
    "    4: 'cricket',\n",
    "    5: 'football',\n",
    "    6: 'gymnastics',\n",
    "    7: 'hockey',\n",
    "    8: 'swimming',\n",
    "    9: 'table_tennis',\n",
    "    10: 'tennis',\n",
    "    11: 'volleyball',\n",
    "    12: 'weight_lifting',\n",
    "    13: 'wrestling',\n",
    "    14: 'wwe'\n",
    "}\n",
    "\n",
    "\n",
    "def get_key(val):\n",
    "    for key, value in labels.items():\n",
    "        if val == value:\n",
    "            return key\n",
    " \n",
    "    return False"
   ]
  },
  {
   "cell_type": "markdown",
   "metadata": {},
   "source": []
  },
  {
   "cell_type": "code",
   "execution_count": 27,
   "metadata": {},
   "outputs": [],
   "source": [
    "def build_csv(labels):\n",
    "    directory=\".\\data\\images\"\n",
    "    data=[]\n",
    "    for root, subdirectories, files in os.walk(directory):\n",
    "        if any(map(lambda p: p[0] == '.', subdirectories)):\n",
    "            continue\n",
    "        for subdirectory in subdirectories:\n",
    "            label=get_key(subdirectory)\n",
    "            for r, s, files in os.walk(os.path.join(root, subdirectory)):\n",
    "                for f in files:\n",
    "                    data.append([os.path.join(root, subdirectory,f),label])\n",
    "                    \n",
    "\n",
    "    df= pd.DataFrame(data, columns=['path', 'label'])\n",
    "\n",
    "    df.to_csv(\"./data/data.csv\", index=False)\n",
    "\n",
    "\n",
    "#build_csv(labels)"
   ]
  },
  {
   "cell_type": "code",
   "execution_count": 28,
   "metadata": {},
   "outputs": [
    {
     "data": {
      "text/html": [
       "<div>\n",
       "<style scoped>\n",
       "    .dataframe tbody tr th:only-of-type {\n",
       "        vertical-align: middle;\n",
       "    }\n",
       "\n",
       "    .dataframe tbody tr th {\n",
       "        vertical-align: top;\n",
       "    }\n",
       "\n",
       "    .dataframe thead th {\n",
       "        text-align: right;\n",
       "    }\n",
       "</style>\n",
       "<table border=\"1\" class=\"dataframe\">\n",
       "  <thead>\n",
       "    <tr style=\"text-align: right;\">\n",
       "      <th></th>\n",
       "      <th>path</th>\n",
       "      <th>label</th>\n",
       "    </tr>\n",
       "  </thead>\n",
       "  <tbody>\n",
       "    <tr>\n",
       "      <th>0</th>\n",
       "      <td>.\\data\\images\\badminton\\00000000.jpg</td>\n",
       "      <td>0</td>\n",
       "    </tr>\n",
       "    <tr>\n",
       "      <th>1</th>\n",
       "      <td>.\\data\\images\\badminton\\00000001.jpg</td>\n",
       "      <td>0</td>\n",
       "    </tr>\n",
       "    <tr>\n",
       "      <th>2</th>\n",
       "      <td>.\\data\\images\\badminton\\00000002.png</td>\n",
       "      <td>0</td>\n",
       "    </tr>\n",
       "    <tr>\n",
       "      <th>3</th>\n",
       "      <td>.\\data\\images\\badminton\\00000003.jpg</td>\n",
       "      <td>0</td>\n",
       "    </tr>\n",
       "    <tr>\n",
       "      <th>4</th>\n",
       "      <td>.\\data\\images\\badminton\\00000004.jpg</td>\n",
       "      <td>0</td>\n",
       "    </tr>\n",
       "  </tbody>\n",
       "</table>\n",
       "</div>"
      ],
      "text/plain": [
       "                                   path  label\n",
       "0  .\\data\\images\\badminton\\00000000.jpg      0\n",
       "1  .\\data\\images\\badminton\\00000001.jpg      0\n",
       "2  .\\data\\images\\badminton\\00000002.png      0\n",
       "3  .\\data\\images\\badminton\\00000003.jpg      0\n",
       "4  .\\data\\images\\badminton\\00000004.jpg      0"
      ]
     },
     "execution_count": 28,
     "metadata": {},
     "output_type": "execute_result"
    }
   ],
   "source": [
    "df = pd.read_csv(\"./data/data.csv\")\n",
    "df.head(5)"
   ]
  },
  {
   "cell_type": "code",
   "execution_count": 29,
   "metadata": {},
   "outputs": [
    {
     "data": {
      "text/plain": [
       "15"
      ]
     },
     "execution_count": 29,
     "metadata": {},
     "output_type": "execute_result"
    }
   ],
   "source": [
    "len(df['label'].unique())"
   ]
  },
  {
   "cell_type": "code",
   "execution_count": 30,
   "metadata": {},
   "outputs": [
    {
     "data": {
      "text/plain": [
       "<function matplotlib.pyplot.axes(arg=None, **kwargs)>"
      ]
     },
     "execution_count": 30,
     "metadata": {},
     "output_type": "execute_result"
    },
    {
     "data": {
      "image/png": "[encoded data removed]",
      "text/plain": [
       "<Figure size 504x432 with 1 Axes>"
      ]
     },
     "metadata": {},
     "output_type": "display_data"
    }
   ],
   "source": [
    "sns.set(font_scale=1.4)\n",
    "df['label'].value_counts().plot(kind='bar', figsize=(7, 6), rot=0)\n",
    "plt.ylabel(\"Number of images\", labelpad=14)\n",
    "plt.xlabel(\"Sport\", labelpad=14)\n",
    "plt.axes"
   ]
  }
 ],
 "metadata": {
  "kernelspec": {
   "display_name": "Python 3",
   "language": "python",
   "name": "python3"
  },
  "language_info": {
   "codemirror_mode": {
    "name": "ipython",
    "version": 3
   },
   "file_extension": ".py",
   "mimetype": "text/x-python",
   "name": "python",
   "nbconvert_exporter": "python",
   "pygments_lexer": "ipython3",
   "version": "3.8.9 (tags/v3.8.9:a743f81, Apr  6 2021, 14:02:34) [MSC v.1928 64 bit (AMD64)]"
  },
  "orig_nbformat": 4,
  "vscode": {
   "interpreter": {
    "hash": "42ab0bb38a78ad576bd0abba33194d05a985cc204cf6b9aed79b2e805062867e"
   }
  }
 },
 "nbformat": 4,
 "nbformat_minor": 2
}
