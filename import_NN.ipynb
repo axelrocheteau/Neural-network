{
 "cells": [
  {
   "cell_type": "code",
   "execution_count": 32,
   "metadata": {},
   "outputs": [],
   "source": [
    "import os\n",
    "import torch\n",
    "import pandas as pd\n",
    "import numpy as np\n",
    "import tensorflow as tf\n",
    "from torch.utils.data import Dataset, random_split, DataLoader\n",
    "from PIL import Image\n",
    "import torchvision.models as models\n",
    "import matplotlib.pyplot as plt\n",
    "import torchvision.transforms as transforms\n",
    "import torch.nn as nn\n",
    "from torchvision.utils import make_grid\n",
    "from torchsummary import summary\n",
    "from torchvision import transforms\n",
    "import torch.nn.functional as F\n"
   ]
  },
  {
   "attachments": {},
   "cell_type": "markdown",
   "metadata": {},
   "source": [
    "# load pretrained network"
   ]
  },
  {
   "attachments": {},
   "cell_type": "markdown",
   "metadata": {},
   "source": [
    "load and store models"
   ]
  },
  {
   "cell_type": "code",
   "execution_count": 17,
   "metadata": {},
   "outputs": [],
   "source": [
    "# dir(models)\n",
    "\n",
    "alexnet = models.alexnet(weights=\"IMAGENET1K_V1\")\n",
    "efficientnet = models.efficientnet_b7(weights=\"IMAGENET1K_V1\")\n",
    "vgg_19 = models.vgg19(weights='IMAGENET1K_V1')\n",
    "# inception_v3 = models.inception_v3(weights=\"IMAGENET1K_V1\")\n",
    "# resnet = models.resnet50(weights=\"IMAGENET1K_V2\")\n",
    "\n",
    "# model = selected_models['resnet']\n",
    "# [model.state_dict()[key].shape for key in model.state_dict().keys()]\n",
    "\n",
    "selected_models = {'alexnet':alexnet, 'efficientnet_b7':efficientnet, 'vgg_19':vgg_19}\n"
   ]
  },
  {
   "attachments": {},
   "cell_type": "markdown",
   "metadata": {},
   "source": [
    "# Modifying NN"
   ]
  },
  {
   "cell_type": "code",
   "execution_count": 18,
   "metadata": {},
   "outputs": [],
   "source": [
    "class change_final_layer(nn.Module):\n",
    "    def __init__(self, originalModel):\n",
    "        super(change_final_layer, self).__init__()\n",
    "        self.features = nn.Sequential(*list(originalModel.features))\n",
    "        # print(originalModel.fc.in_features)\n",
    "        last_layer = [key for key in model.state_dict().keys()][-2]\n",
    "        last_layer_size = model.state_dict()[last_layer].shape[-1]\n",
    "        self.classifier = nn.Sequential(*list(originalModel.classifier)[:-1], nn.Linear(last_layer_size, 15))\n",
    "    \n",
    "    def forward(self, x):\n",
    "        return x\n",
    "\n",
    "\n"
   ]
  },
  {
   "cell_type": "code",
   "execution_count": 20,
   "metadata": {},
   "outputs": [],
   "source": [
    "modified_models = {}\n",
    "for model_name, model in selected_models.items():\n",
    "    modified_model = change_final_layer(model)\n",
    "    modified_models[model_name] = modified_model\n"
   ]
  },
  {
   "attachments": {},
   "cell_type": "markdown",
   "metadata": {},
   "source": [
    "# load data"
   ]
  },
  {
   "cell_type": "code",
   "execution_count": 48,
   "metadata": {},
   "outputs": [],
   "source": [
    "preprocess_image = transforms.Compose([\n",
    "    transforms.Resize(256),\n",
    "    transforms.CenterCrop(224),\n",
    "    transforms.ToTensor(),\n",
    "    transforms.Normalize(\n",
    "    mean=[0.485, 0.456, 0.406], \n",
    "    std=[0.229, 0.224, 0.225])\n",
    "])"
   ]
  },
  {
   "cell_type": "code",
   "execution_count": null,
   "metadata": {},
   "outputs": [],
   "source": [
    "device = torch.device(\n",
    "    'cuda' if torch.cuda.is_available() else{\n",
    "        'mps' if torch.backends.mps.is_available() else 'cpu'\n",
    "    }\n",
    ")\n",
    "device"
   ]
  },
  {
   "cell_type": "code",
   "execution_count": 61,
   "metadata": {},
   "outputs": [
    {
     "name": "stdout",
     "output_type": "stream",
     "text": [
      "image .\\data\\images\\table_tennis\\00000533.ashx cannot be loaded\n",
      "image .\\data\\images\\table_tennis\\00000726-checkpoint.jpg cannot be loaded\n",
      "image .\\data\\images\\table_tennis\\00000744-checkpoint.jpg cannot be loaded\n",
      "image .\\data\\images\\table_tennis\\00000761-checkpoint.jpg cannot be loaded\n",
      "image .\\data\\images\\table_tennis\\00000765-checkpoint.jpg cannot be loaded\n",
      "image .\\data\\images\\table_tennis\\00000768-checkpoint.jpg cannot be loaded\n",
      "image .\\data\\images\\table_tennis\\00000778-checkpoint.jpg cannot be loaded\n",
      "image .\\data\\images\\table_tennis\\00000779-checkpoint.jpg cannot be loaded\n",
      "torch.Size([10303, 3, 224, 224])\n"
     ]
    }
   ],
   "source": [
    "df = pd.read_csv(\"./data/data.csv\") # path to images\n",
    "y = F.one_hot(torch.as_tensor(df['label'].values), num_classes=15)\n",
    "image_paths = df['path']\n",
    "images = []\n",
    "\n",
    "for path in image_paths:\n",
    "    try:\n",
    "        img = Image.open(path)\n",
    "        images.append(preprocess_image(img.convert('RGB')))\n",
    "    except Exception as e:\n",
    "        print(f'image {path} cannot be loaded')\n",
    "\n",
    "X = torch.stack(images)\n",
    "print(X.shape)"
   ]
  },
  {
   "cell_type": "code",
   "execution_count": 62,
   "metadata": {},
   "outputs": [
    {
     "name": "stdout",
     "output_type": "stream",
     "text": [
      "torch.Size([50, 3, 224, 224])\n"
     ]
    }
   ],
   "source": [
    "def get_batch(data, batch_size, iteration):\n",
    "    start = batch_size * iteration\n",
    "    end = (batch_size) * (iteration + 1)\n",
    "    return data[start:end, :, :, :]\n",
    "\n",
    "batch = get_batch(X, 50, 0)\n",
    "print(batch.shape)"
   ]
  }
 ],
 "metadata": {
  "kernelspec": {
   "display_name": "Python 3",
   "language": "python",
   "name": "python3"
  },
  "language_info": {
   "codemirror_mode": {
    "name": "ipython",
    "version": 3
   },
   "file_extension": ".py",
   "mimetype": "text/x-python",
   "name": "python",
   "nbconvert_exporter": "python",
   "pygments_lexer": "ipython3",
   "version": "3.8.9"
  },
  "orig_nbformat": 4,
  "vscode": {
   "interpreter": {
    "hash": "42ab0bb38a78ad576bd0abba33194d05a985cc204cf6b9aed79b2e805062867e"
   }
  }
 },
 "nbformat": 4,
 "nbformat_minor": 2
}
