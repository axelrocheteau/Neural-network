{
 "cells": [
  {
   "attachments": {},
   "cell_type": "markdown",
   "metadata": {},
   "source": [
    "### TRANSFER LEARNING  \n",
    "When a model developed for one task is reused to work on a second task  \n",
    "#### 2 approaches:\n",
    "- Feature extraction: start with a pretrained model and only update the final layer weights from which we derive predictions\n",
    "- Fine tuning: start with a pretrained model and update all of the model’s parameters for our new task\n",
    "\n",
    "#### General steps:\n",
    "1. Initialize the pretrained model\n",
    "2. Reshape the final layer(s) to have the same number of outputs as the number of classes in the new dataset\n",
    "3. Define for the optimization algorithm which parameters we want to update during training\n",
    "4. Run the training step"
   ]
  },
  {
   "cell_type": "code",
   "execution_count": null,
   "metadata": {},
   "outputs": [],
   "source": [
    "# Top level data directory. Here we assume the format of the directory conforms\n",
    "#   to the ImageFolder structure\n",
    "data_dir = \"./...\"\n",
    "\n",
    "# Models to choose from [resnet, alexnet, vgg, squeezenet, densenet, inception]\n",
    "model_name = \"?\"\n",
    "\n",
    "# Number of classes in the dataset\n",
    "num_classes = 15\n",
    "\n",
    "# Batch size for training (change depending on how much memory you have)\n",
    "batch_size = 8\n",
    "\n",
    "# Number of epochs to train for\n",
    "num_epochs = 15\n",
    "\n",
    "# Flag for feature extracting. When False, we finetune the whole model,\n",
    "#   when True we only update the reshaped layer params\n",
    "feature_extract = True"
   ]
  }
 ],
 "metadata": {
  "kernelspec": {
   "display_name": "Python 3",
   "language": "python",
   "name": "python3"
  },
  "language_info": {
   "name": "python",
   "version": "3.8.0 (tags/v3.8.0:fa919fd, Oct 14 2019, 19:37:50) [MSC v.1916 64 bit (AMD64)]"
  },
  "orig_nbformat": 4,
  "vscode": {
   "interpreter": {
    "hash": "713ef792e6787f43b2b43cb86dab122da7f482c74cf67e5704b4213c0bd16f9a"
   }
  }
 },
 "nbformat": 4,
 "nbformat_minor": 2
}
