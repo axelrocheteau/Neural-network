{
 "cells": [
  {
   "cell_type": "code",
   "execution_count": 25,
   "metadata": {},
   "outputs": [],
   "source": [
    "import os\n",
    "import torch\n",
    "import pandas as pd\n",
    "import numpy as np\n",
    "import seaborn as sns\n",
    "from torch.utils.data import Dataset, random_split, DataLoader\n",
    "from PIL import Image\n",
    "import torchvision.models as models\n",
    "import matplotlib.pyplot as plt\n",
    "import torchvision.transforms as transforms\n",
    "from sklearn.metrics import f1_score\n",
    "import torch.nn.functional as F\n",
    "import torch.nn as nn\n",
    "from torchvision.utils import make_grid"
   ]
  },
  {
   "attachments": {},
   "cell_type": "markdown",
   "metadata": {},
   "source": [
    "## Building the dataset\n",
    "\n",
    "The dataset to be used is a subset of an existing dataset found on [kaggle](https://www.kaggle.com/datasets/sovitrath/sports-image-dataset?datasetId=680510&sortBy=dateRun&tab=profile). The original dataset had 22 different sports from which 15 were choosen for our subset. The choice of the sports was not arbitrary, we chose to keep a variety of sports that included some very similar to each other and others that are more easily destinguisable, so we can still explore the capabilities of our approach."
   ]
  },
  {
   "attachments": {},
   "cell_type": "markdown",
   "metadata": {},
   "source": [
    "Maping each sport name to an id and saving it in a dictionary for easy use throughout the code."
   ]
  },
  {
   "cell_type": "code",
   "execution_count": 26,
   "metadata": {},
   "outputs": [],
   "source": [
    "labels = {\n",
    "    0: 'badminton',\n",
    "    1: 'baseball',\n",
    "    2: 'basketball',\n",
    "    3: 'boxing',\n",
    "    4: 'cricket',\n",
    "    5: 'football',\n",
    "    6: 'gymnastics',\n",
    "    7: 'hockey',\n",
    "    8: 'swimming',\n",
    "    9: 'table_tennis',\n",
    "    10: 'tennis',\n",
    "    11: 'volleyball',\n",
    "    12: 'weight_lifting',\n",
    "    13: 'wrestling',\n",
    "    14: 'wwe'\n",
    "}\n",
    "\n",
    "\n",
    "def get_key(val):\n",
    "    for key, value in labels.items():\n",
    "        if val == value:\n",
    "            return key\n",
    " \n",
    "    return False"
   ]
  },
  {
   "cell_type": "markdown",
   "metadata": {},
   "source": []
  },
  {
   "cell_type": "code",
   "execution_count": 27,
   "metadata": {},
   "outputs": [],
   "source": [
    "def build_csv(labels):\n",
    "    directory=\".\\data\\images\"\n",
    "    data=[]\n",
    "    for root, subdirectories, files in os.walk(directory):\n",
    "        if any(map(lambda p: p[0] == '.', subdirectories)):\n",
    "            continue\n",
    "        for subdirectory in subdirectories:\n",
    "            label=get_key(subdirectory)\n",
    "            for r, s, files in os.walk(os.path.join(root, subdirectory)):\n",
    "                for f in files:\n",
    "                    data.append([os.path.join(root, subdirectory,f),label])\n",
    "                    \n",
    "\n",
    "    df= pd.DataFrame(data, columns=['path', 'label'])\n",
    "\n",
    "    df.to_csv(\"./data/data.csv\", index=False)\n",
    "\n",
    "\n",
    "#build_csv(labels)"
   ]
  },
  {
   "cell_type": "code",
   "execution_count": 28,
   "metadata": {},
   "outputs": [
    {
     "data": {
      "text/html": [
       "<div>\n",
       "<style scoped>\n",
       "    .dataframe tbody tr th:only-of-type {\n",
       "        vertical-align: middle;\n",
       "    }\n",
       "\n",
       "    .dataframe tbody tr th {\n",
       "        vertical-align: top;\n",
       "    }\n",
       "\n",
       "    .dataframe thead th {\n",
       "        text-align: right;\n",
       "    }\n",
       "</style>\n",
       "<table border=\"1\" class=\"dataframe\">\n",
       "  <thead>\n",
       "    <tr style=\"text-align: right;\">\n",
       "      <th></th>\n",
       "      <th>path</th>\n",
       "      <th>label</th>\n",
       "    </tr>\n",
       "  </thead>\n",
       "  <tbody>\n",
       "    <tr>\n",
       "      <th>0</th>\n",
       "      <td>.\\data\\images\\badminton\\00000000.jpg</td>\n",
       "      <td>0</td>\n",
       "    </tr>\n",
       "    <tr>\n",
       "      <th>1</th>\n",
       "      <td>.\\data\\images\\badminton\\00000001.jpg</td>\n",
       "      <td>0</td>\n",
       "    </tr>\n",
       "    <tr>\n",
       "      <th>2</th>\n",
       "      <td>.\\data\\images\\badminton\\00000002.png</td>\n",
       "      <td>0</td>\n",
       "    </tr>\n",
       "    <tr>\n",
       "      <th>3</th>\n",
       "      <td>.\\data\\images\\badminton\\00000003.jpg</td>\n",
       "      <td>0</td>\n",
       "    </tr>\n",
       "    <tr>\n",
       "      <th>4</th>\n",
       "      <td>.\\data\\images\\badminton\\00000004.jpg</td>\n",
       "      <td>0</td>\n",
       "    </tr>\n",
       "  </tbody>\n",
       "</table>\n",
       "</div>"
      ],
      "text/plain": [
       "                                   path  label\n",
       "0  .\\data\\images\\badminton\\00000000.jpg      0\n",
       "1  .\\data\\images\\badminton\\00000001.jpg      0\n",
       "2  .\\data\\images\\badminton\\00000002.png      0\n",
       "3  .\\data\\images\\badminton\\00000003.jpg      0\n",
       "4  .\\data\\images\\badminton\\00000004.jpg      0"
      ]
     },
     "execution_count": 28,
     "metadata": {},
     "output_type": "execute_result"
    }
   ],
   "source": [
    "df = pd.read_csv(\"./data/data.csv\")\n",
    "df.head(5)"
   ]
  },
  {
   "cell_type": "code",
   "execution_count": 29,
   "metadata": {},
   "outputs": [
    {
     "data": {
      "text/plain": [
       "15"
      ]
     },
     "execution_count": 29,
     "metadata": {},
     "output_type": "execute_result"
    }
   ],
   "source": [
    "len(df['label'].unique())"
   ]
  },
  {
   "cell_type": "code",
   "execution_count": 30,
   "metadata": {},
   "outputs": [
    {
     "data": {
      "text/plain": [
       "<function matplotlib.pyplot.axes(arg=None, **kwargs)>"
      ]
     },
     "execution_count": 30,
     "metadata": {},
     "output_type": "execute_result"
    },
    {
     "data": {
      "image/png": "[encoded data removed]",
      "text/plain": [
       "<Figure size 504x432 with 1 Axes>"
      ]
     },
     "metadata": {},
     "output_type": "display_data"
    }
   ],
   "source": [
    "sns.set(font_scale=1.4)\n",
    "df['label'].value_counts().plot(kind='bar', figsize=(7, 6), rot=0)\n",
    "plt.ylabel(\"Number of images\", labelpad=14)\n",
    "plt.xlabel(\"Sport\", labelpad=14)\n",
    "plt.axes"
   ]
  },
  {
   "cell_type": "code",
   "execution_count": 31,
   "metadata": {},
   "outputs": [],
   "source": [
    "class SportsImageDataset(Dataset):\n",
    "    def __init__(self, df, root_dir, transform=None):\n",
    "        self.df = df\n",
    "        self.transform = transform\n",
    "        self.root_dir = root_dir\n",
    "        \n",
    "    def __len__(self):\n",
    "        return len(self.df)    \n",
    "    \n",
    "    def __getitem__(self, idx):\n",
    "        row = self.df.loc[idx]\n",
    "        img_id, img_label = row['path'], row['label']\n",
    "        img_fname = img_id\n",
    "        img = Image.open(img_fname)\n",
    "        if self.transform:\n",
    "            img = self.transform(img)\n",
    "        return img, int(img_label)"
   ]
  },
  {
   "cell_type": "code",
   "execution_count": 32,
   "metadata": {},
   "outputs": [
    {
     "data": {
      "text/plain": [
       "RandomState(MT19937) at 0x1A013273B40"
      ]
     },
     "execution_count": 32,
     "metadata": {},
     "output_type": "execute_result"
    }
   ],
   "source": [
    "np.random.RandomState(42)"
   ]
  },
  {
   "cell_type": "code",
   "execution_count": 33,
   "metadata": {},
   "outputs": [
    {
     "data": {
      "text/plain": [
       "(8248, 1031, 1032)"
      ]
     },
     "execution_count": 33,
     "metadata": {},
     "output_type": "execute_result"
    }
   ],
   "source": [
    "train_df, val_df, test_df = np.split(df.sample(frac=1), [int(.8*len(df)), int(.9*len(df))])\n",
    "\n",
    "len(train_df), len(val_df), len(test_df)"
   ]
  },
  {
   "cell_type": "code",
   "execution_count": 34,
   "metadata": {},
   "outputs": [],
   "source": [
    "train_df.reset_index(inplace=True)\n",
    "val_df.reset_index(inplace=True)\n",
    "test_df.reset_index(inplace=True)"
   ]
  },
  {
   "cell_type": "code",
   "execution_count": 35,
   "metadata": {},
   "outputs": [],
   "source": [
    "stats = ((0.485, 0.456, 0.406), (0.229, 0.224, 0.225))\n",
    "train_tfms = transforms.Compose(\n",
    "    [\n",
    "        transforms.Resize((72,72)),\n",
    "        transforms.RandomCrop(64, padding=4, padding_mode='reflect'), \n",
    "        transforms.RandomHorizontalFlip(), \n",
    "        transforms.ToTensor(),\n",
    "        transforms.RandomErasing(inplace=False), \n",
    "        transforms.Normalize(*stats,inplace=True)\n",
    "    ]\n",
    ")\n",
    "\n",
    "valid_tfms = transforms.Compose(\n",
    "    [\n",
    "        transforms.Resize((64,64)),\n",
    "        transforms.ToTensor(), \n",
    "        transforms.Normalize(*stats)\n",
    "    ]\n",
    ")"
   ]
  },
  {
   "cell_type": "code",
   "execution_count": 36,
   "metadata": {},
   "outputs": [],
   "source": [
    "train_ds = SportsImageDataset(train_df, \"./data/images\", transform=train_tfms)\n",
    "val_ds = SportsImageDataset(val_df, \"./data/images/\", transform=valid_tfms)\n",
    "test_ds = SportsImageDataset(test_df, \"./data/images/\", transform=valid_tfms)"
   ]
  },
  {
   "cell_type": "code",
   "execution_count": 37,
   "metadata": {},
   "outputs": [],
   "source": [
    "def show_sample(img, target, prediction= False, invert=True):\n",
    "    print(img.shape)\n",
    "    if invert:\n",
    "        plt.imshow(1 - img.permute((1, 2, 0)))\n",
    "    else:\n",
    "        plt.imshow(img.permute(1, 2, 0))\n",
    "    print('Label (numeric):', target)\n",
    "    if not prediction:\n",
    "        print('Label:', labels[target])"
   ]
  },
  {
   "cell_type": "code",
   "execution_count": 42,
   "metadata": {},
   "outputs": [
    {
     "name": "stderr",
     "output_type": "stream",
     "text": [
      "Clipping input data to the valid range for imshow with RGB data ([0..1] for floats or [0..255] for integers).\n"
     ]
    },
    {
     "name": "stdout",
     "output_type": "stream",
     "text": [
      "torch.Size([3, 64, 64])\n",
      "Label (numeric): 7\n",
      "Label: hockey\n"
     ]
    },
    {
     "data": {
      "image/png": "[encoded data removed]",
      "text/plain": [
       "<Figure size 432x288 with 1 Axes>"
      ]
     },
     "metadata": {},
     "output_type": "display_data"
    }
   ],
   "source": [
    "show_sample(*train_ds[2] ,invert=False)"
   ]
  },
  {
   "cell_type": "code",
   "execution_count": 39,
   "metadata": {},
   "outputs": [
    {
     "data": {
      "text/plain": [
       "<torch._C.Generator at 0x1a06ee14df0>"
      ]
     },
     "execution_count": 39,
     "metadata": {},
     "output_type": "execute_result"
    }
   ],
   "source": [
    "torch.manual_seed(42)"
   ]
  },
  {
   "cell_type": "code",
   "execution_count": 40,
   "metadata": {},
   "outputs": [],
   "source": [
    "batch_size = 32"
   ]
  },
  {
   "cell_type": "code",
   "execution_count": 41,
   "metadata": {},
   "outputs": [],
   "source": [
    "train_loader = DataLoader(train_ds, batch_size, shuffle=True, num_workers=4, pin_memory=True)\n",
    "val_loader = DataLoader(val_ds, batch_size*2, num_workers=4, pin_memory=True)\n",
    "test_loader = DataLoader(test_ds, batch_size*2, num_workers=4, pin_memory=True)"
   ]
  },
  {
   "cell_type": "code",
   "execution_count": 44,
   "metadata": {},
   "outputs": [],
   "source": [
    "def show_batch(dl, invert=True):\n",
    "    for images, labels in dl:\n",
    "        print('images.shape:', images.shape)\n",
    "        fig, ax = plt.subplots(figsize=(16, 8))\n",
    "        ax.set_xticks([]); ax.set_yticks([])\n",
    "        data = 1-images if invert else images\n",
    "        ax.imshow(make_grid(data, nrow=16).permute(1, 2, 0))\n",
    "        break"
   ]
  },
  {
   "cell_type": "code",
   "execution_count": 45,
   "metadata": {},
   "outputs": [],
   "source": [
    "show_batch(train_loader, False)"
   ]
  }
 ],
 "metadata": {
  "kernelspec": {
   "display_name": "Python 3",
   "language": "python",
   "name": "python3"
  },
  "language_info": {
   "codemirror_mode": {
    "name": "ipython",
    "version": 3
   },
   "file_extension": ".py",
   "mimetype": "text/x-python",
   "name": "python",
   "nbconvert_exporter": "python",
   "pygments_lexer": "ipython3",
   "version": "3.9.13"
  },
  "orig_nbformat": 4,
  "vscode": {
   "interpreter": {
    "hash": "4ce0d2f3b7761ac8175740b85f28b91c2a11b8ff7243f79dee140848b91bb2f0"
   }
  }
 },
 "nbformat": 4,
 "nbformat_minor": 2
}
